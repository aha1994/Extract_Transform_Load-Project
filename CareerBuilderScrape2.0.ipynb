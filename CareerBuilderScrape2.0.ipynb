{
 "cells": [
  {
   "cell_type": "code",
   "execution_count": 4,
   "metadata": {},
   "outputs": [],
   "source": [
    "# test for project\n",
    "\n",
    "from splinter import Browser\n",
    "from bs4 import BeautifulSoup \n",
    "import requests\n",
    "import urllib.parse\n",
    "import time"
   ]
  },
  {
   "cell_type": "code",
   "execution_count": 11,
   "metadata": {},
   "outputs": [
    {
     "data": {
      "text/plain": [
       "150"
      ]
     },
     "execution_count": 11,
     "metadata": {},
     "output_type": "execute_result"
    }
   ],
   "source": [
    "executable_path={'executable_path':'chromedriver.exe'}\n",
    "browser = Browser('chrome', **executable_path, headless=False)\n",
    "browser.driver.set_window_size(640, 480)\n",
    "url = 'https://www.careerbuilder.com/'\n",
    "\n",
    "browser.visit(url)\n",
    "browser.fill('keywords','data')\n",
    "browser.fill('location', 'atlanta')\n",
    "browser.click_link_by_id('sbmt')\n",
    "\n",
    "time.sleep(15)\n",
    "for x in range(5):\n",
    "    browser.click_link_by_id('load_more_jobs')\n",
    "    time.sleep(3)  \n",
    "\n",
    "time.sleep(5)\n",
    "text = browser.html\n",
    "soup = BeautifulSoup(text, 'html.parser')\n",
    "post = soup.find_all(class_=\"data-results-content\")\n",
    "post = post[4:]\n",
    "\n",
    "len(post)"
   ]
  },
  {
   "cell_type": "code",
   "execution_count": 32,
   "metadata": {},
   "outputs": [
    {
     "data": {
      "text/plain": [
       "0                    New York, New York\n",
       "1               Los Angeles, California\n",
       "2                     Chicago, Illinois\n",
       "3                        Houston, Texas\n",
       "4                      Phoenix, Arizona\n",
       "5            Philadelphia, Pennsylvania\n",
       "6                    San Antonio, Texas\n",
       "7                 San Diego, California\n",
       "8                         Dallas, Texas\n",
       "9                  San Jose, California\n",
       "10                        Austin, Texas\n",
       "11                Jacksonville, Florida\n",
       "12                       Columbus, Ohio\n",
       "13            San Francisco, California\n",
       "14            Charlotte, North Carolina\n",
       "15                Indianapolis, Indiana\n",
       "16                  Seattle, Washington\n",
       "17                     Denver, Colorado\n",
       "18     Washington, District of Columbia\n",
       "19                Boston, Massachusetts\n",
       "20                       El Paso, Texas\n",
       "21                    Detroit, Michigan\n",
       "22                 Nashville, Tennessee\n",
       "23                     Portland, Oregon\n",
       "24                   Memphis, Tennessee\n",
       "25              Oklahoma City, Oklahoma\n",
       "26                    Las Vegas, Nevada\n",
       "27                 Louisville, Kentucky\n",
       "28                  Baltimore, Maryland\n",
       "29                 Milwaukee, Wisconsin\n",
       "                     ...               \n",
       "124                      Topeka, Kansas\n",
       "125                 Fargo, North Dakota\n",
       "126                      Abilene, Texas\n",
       "127          Wilmington, North Carolina\n",
       "128               Hartford, Connecticut\n",
       "129                 Vallejo, California\n",
       "130                 Ann Arbor, Michigan\n",
       "131             Allentown, Pennsylvania\n",
       "132                       Odessa, Texas\n",
       "133                     Beaumont, Texas\n",
       "134                   Lansing, Michigan\n",
       "135                 Evansville, Indiana\n",
       "136                         Provo, Utah\n",
       "137              College Station, Texas\n",
       "138                   Palm Bay, Florida\n",
       "139           Manchester, New Hampshire\n",
       "140                    Pueblo, Colorado\n",
       "141                   Lakeland, Florida\n",
       "142                   Billings, Montana\n",
       "143             Santa Maria, California\n",
       "144                   Boulder, Colorado\n",
       "145                   Greeley, Colorado\n",
       "146                        Tyler, Texas\n",
       "147                Green Bay, Wisconsin\n",
       "148                Wichita Falls, Texas\n",
       "149              Las Cruces, New Mexico\n",
       "150                     Davenport, Iowa\n",
       "151                 South Bend, Indiana\n",
       "152                 Tuscaloosa, Alabama\n",
       "153                   San Angelo, Texas\n",
       "Length: 154, dtype: object"
      ]
     },
     "execution_count": 32,
     "metadata": {},
     "output_type": "execute_result"
    }
   ],
   "source": [
    "import pandas as pd\n",
    "\n",
    "cities = pd.read_csv('merged city and metro area data.csv')\n",
    "cities_to_search = cities['Metro Name'] + ', ' + cities['State[c]']\n",
    "cities_to_search"
   ]
  },
  {
   "cell_type": "code",
   "execution_count": 33,
   "metadata": {},
   "outputs": [
    {
     "ename": "ElementClickInterceptedException",
     "evalue": "Message: element click intercepted: Element <div class=\"center bloc\" id=\"load_more_jobs\">...</div> is not clickable at point (306, 319). Other element would receive the click: <div class=\"block show-mobile\">...</div>\n  (Session info: chrome=78.0.3904.97)\n",
     "output_type": "error",
     "traceback": [
      "\u001b[1;31m---------------------------------------------------------------------------\u001b[0m",
      "\u001b[1;31mElementClickInterceptedException\u001b[0m          Traceback (most recent call last)",
      "\u001b[1;32m<ipython-input-33-c2658fdf0243>\u001b[0m in \u001b[0;36m<module>\u001b[1;34m\u001b[0m\n\u001b[0;32m     18\u001b[0m     \u001b[0mtime\u001b[0m\u001b[1;33m.\u001b[0m\u001b[0msleep\u001b[0m\u001b[1;33m(\u001b[0m\u001b[1;36m10\u001b[0m\u001b[1;33m)\u001b[0m\u001b[1;33m\u001b[0m\u001b[1;33m\u001b[0m\u001b[0m\n\u001b[0;32m     19\u001b[0m     \u001b[1;32mfor\u001b[0m \u001b[0mx\u001b[0m \u001b[1;32min\u001b[0m \u001b[0mrange\u001b[0m\u001b[1;33m(\u001b[0m\u001b[1;36m5\u001b[0m\u001b[1;33m)\u001b[0m\u001b[1;33m:\u001b[0m\u001b[1;33m\u001b[0m\u001b[1;33m\u001b[0m\u001b[0m\n\u001b[1;32m---> 20\u001b[1;33m         \u001b[0mbrowser\u001b[0m\u001b[1;33m.\u001b[0m\u001b[0mclick_link_by_id\u001b[0m\u001b[1;33m(\u001b[0m\u001b[1;34m'load_more_jobs'\u001b[0m\u001b[1;33m)\u001b[0m\u001b[1;33m\u001b[0m\u001b[1;33m\u001b[0m\u001b[0m\n\u001b[0m\u001b[0;32m     21\u001b[0m         \u001b[0mtime\u001b[0m\u001b[1;33m.\u001b[0m\u001b[0msleep\u001b[0m\u001b[1;33m(\u001b[0m\u001b[1;36m4\u001b[0m\u001b[1;33m)\u001b[0m\u001b[1;33m\u001b[0m\u001b[1;33m\u001b[0m\u001b[0m\n\u001b[0;32m     22\u001b[0m \u001b[1;33m\u001b[0m\u001b[0m\n",
      "\u001b[1;32m~\\Anaconda3\\lib\\site-packages\\splinter\\driver\\__init__.py\u001b[0m in \u001b[0;36mclick_link_by_id\u001b[1;34m(self, id)\u001b[0m\n\u001b[0;32m    400\u001b[0m         \u001b[0mClicks\u001b[0m \u001b[1;32min\u001b[0m \u001b[0ma\u001b[0m \u001b[0mlink\u001b[0m \u001b[0mby\u001b[0m \u001b[0mid\u001b[0m\u001b[1;33m.\u001b[0m\u001b[1;33m\u001b[0m\u001b[1;33m\u001b[0m\u001b[0m\n\u001b[0;32m    401\u001b[0m         \"\"\"\n\u001b[1;32m--> 402\u001b[1;33m         \u001b[1;32mreturn\u001b[0m \u001b[0mself\u001b[0m\u001b[1;33m.\u001b[0m\u001b[0mfind_by_id\u001b[0m\u001b[1;33m(\u001b[0m\u001b[0mid\u001b[0m\u001b[1;33m)\u001b[0m\u001b[1;33m.\u001b[0m\u001b[0mfirst\u001b[0m\u001b[1;33m.\u001b[0m\u001b[0mclick\u001b[0m\u001b[1;33m(\u001b[0m\u001b[1;33m)\u001b[0m\u001b[1;33m\u001b[0m\u001b[1;33m\u001b[0m\u001b[0m\n\u001b[0m\u001b[0;32m    403\u001b[0m \u001b[1;33m\u001b[0m\u001b[0m\n\u001b[0;32m    404\u001b[0m     \u001b[1;32mdef\u001b[0m \u001b[0mquit\u001b[0m\u001b[1;33m(\u001b[0m\u001b[0mself\u001b[0m\u001b[1;33m)\u001b[0m\u001b[1;33m:\u001b[0m\u001b[1;33m\u001b[0m\u001b[1;33m\u001b[0m\u001b[0m\n",
      "\u001b[1;32m~\\Anaconda3\\lib\\site-packages\\splinter\\driver\\webdriver\\__init__.py\u001b[0m in \u001b[0;36mclick\u001b[1;34m(self)\u001b[0m\n\u001b[0;32m    671\u001b[0m \u001b[1;33m\u001b[0m\u001b[0m\n\u001b[0;32m    672\u001b[0m     \u001b[1;32mdef\u001b[0m \u001b[0mclick\u001b[0m\u001b[1;33m(\u001b[0m\u001b[0mself\u001b[0m\u001b[1;33m)\u001b[0m\u001b[1;33m:\u001b[0m\u001b[1;33m\u001b[0m\u001b[1;33m\u001b[0m\u001b[0m\n\u001b[1;32m--> 673\u001b[1;33m         \u001b[0mself\u001b[0m\u001b[1;33m.\u001b[0m\u001b[0m_element\u001b[0m\u001b[1;33m.\u001b[0m\u001b[0mclick\u001b[0m\u001b[1;33m(\u001b[0m\u001b[1;33m)\u001b[0m\u001b[1;33m\u001b[0m\u001b[1;33m\u001b[0m\u001b[0m\n\u001b[0m\u001b[0;32m    674\u001b[0m \u001b[1;33m\u001b[0m\u001b[0m\n\u001b[0;32m    675\u001b[0m     \u001b[1;32mdef\u001b[0m \u001b[0mcheck\u001b[0m\u001b[1;33m(\u001b[0m\u001b[0mself\u001b[0m\u001b[1;33m)\u001b[0m\u001b[1;33m:\u001b[0m\u001b[1;33m\u001b[0m\u001b[1;33m\u001b[0m\u001b[0m\n",
      "\u001b[1;32m~\\Anaconda3\\lib\\site-packages\\selenium\\webdriver\\remote\\webelement.py\u001b[0m in \u001b[0;36mclick\u001b[1;34m(self)\u001b[0m\n\u001b[0;32m     78\u001b[0m     \u001b[1;32mdef\u001b[0m \u001b[0mclick\u001b[0m\u001b[1;33m(\u001b[0m\u001b[0mself\u001b[0m\u001b[1;33m)\u001b[0m\u001b[1;33m:\u001b[0m\u001b[1;33m\u001b[0m\u001b[1;33m\u001b[0m\u001b[0m\n\u001b[0;32m     79\u001b[0m         \u001b[1;34m\"\"\"Clicks the element.\"\"\"\u001b[0m\u001b[1;33m\u001b[0m\u001b[1;33m\u001b[0m\u001b[0m\n\u001b[1;32m---> 80\u001b[1;33m         \u001b[0mself\u001b[0m\u001b[1;33m.\u001b[0m\u001b[0m_execute\u001b[0m\u001b[1;33m(\u001b[0m\u001b[0mCommand\u001b[0m\u001b[1;33m.\u001b[0m\u001b[0mCLICK_ELEMENT\u001b[0m\u001b[1;33m)\u001b[0m\u001b[1;33m\u001b[0m\u001b[1;33m\u001b[0m\u001b[0m\n\u001b[0m\u001b[0;32m     81\u001b[0m \u001b[1;33m\u001b[0m\u001b[0m\n\u001b[0;32m     82\u001b[0m     \u001b[1;32mdef\u001b[0m \u001b[0msubmit\u001b[0m\u001b[1;33m(\u001b[0m\u001b[0mself\u001b[0m\u001b[1;33m)\u001b[0m\u001b[1;33m:\u001b[0m\u001b[1;33m\u001b[0m\u001b[1;33m\u001b[0m\u001b[0m\n",
      "\u001b[1;32m~\\Anaconda3\\lib\\site-packages\\selenium\\webdriver\\remote\\webelement.py\u001b[0m in \u001b[0;36m_execute\u001b[1;34m(self, command, params)\u001b[0m\n\u001b[0;32m    631\u001b[0m             \u001b[0mparams\u001b[0m \u001b[1;33m=\u001b[0m \u001b[1;33m{\u001b[0m\u001b[1;33m}\u001b[0m\u001b[1;33m\u001b[0m\u001b[1;33m\u001b[0m\u001b[0m\n\u001b[0;32m    632\u001b[0m         \u001b[0mparams\u001b[0m\u001b[1;33m[\u001b[0m\u001b[1;34m'id'\u001b[0m\u001b[1;33m]\u001b[0m \u001b[1;33m=\u001b[0m \u001b[0mself\u001b[0m\u001b[1;33m.\u001b[0m\u001b[0m_id\u001b[0m\u001b[1;33m\u001b[0m\u001b[1;33m\u001b[0m\u001b[0m\n\u001b[1;32m--> 633\u001b[1;33m         \u001b[1;32mreturn\u001b[0m \u001b[0mself\u001b[0m\u001b[1;33m.\u001b[0m\u001b[0m_parent\u001b[0m\u001b[1;33m.\u001b[0m\u001b[0mexecute\u001b[0m\u001b[1;33m(\u001b[0m\u001b[0mcommand\u001b[0m\u001b[1;33m,\u001b[0m \u001b[0mparams\u001b[0m\u001b[1;33m)\u001b[0m\u001b[1;33m\u001b[0m\u001b[1;33m\u001b[0m\u001b[0m\n\u001b[0m\u001b[0;32m    634\u001b[0m \u001b[1;33m\u001b[0m\u001b[0m\n\u001b[0;32m    635\u001b[0m     \u001b[1;32mdef\u001b[0m \u001b[0mfind_element\u001b[0m\u001b[1;33m(\u001b[0m\u001b[0mself\u001b[0m\u001b[1;33m,\u001b[0m \u001b[0mby\u001b[0m\u001b[1;33m=\u001b[0m\u001b[0mBy\u001b[0m\u001b[1;33m.\u001b[0m\u001b[0mID\u001b[0m\u001b[1;33m,\u001b[0m \u001b[0mvalue\u001b[0m\u001b[1;33m=\u001b[0m\u001b[1;32mNone\u001b[0m\u001b[1;33m)\u001b[0m\u001b[1;33m:\u001b[0m\u001b[1;33m\u001b[0m\u001b[1;33m\u001b[0m\u001b[0m\n",
      "\u001b[1;32m~\\Anaconda3\\lib\\site-packages\\selenium\\webdriver\\remote\\webdriver.py\u001b[0m in \u001b[0;36mexecute\u001b[1;34m(self, driver_command, params)\u001b[0m\n\u001b[0;32m    319\u001b[0m         \u001b[0mresponse\u001b[0m \u001b[1;33m=\u001b[0m \u001b[0mself\u001b[0m\u001b[1;33m.\u001b[0m\u001b[0mcommand_executor\u001b[0m\u001b[1;33m.\u001b[0m\u001b[0mexecute\u001b[0m\u001b[1;33m(\u001b[0m\u001b[0mdriver_command\u001b[0m\u001b[1;33m,\u001b[0m \u001b[0mparams\u001b[0m\u001b[1;33m)\u001b[0m\u001b[1;33m\u001b[0m\u001b[1;33m\u001b[0m\u001b[0m\n\u001b[0;32m    320\u001b[0m         \u001b[1;32mif\u001b[0m \u001b[0mresponse\u001b[0m\u001b[1;33m:\u001b[0m\u001b[1;33m\u001b[0m\u001b[1;33m\u001b[0m\u001b[0m\n\u001b[1;32m--> 321\u001b[1;33m             \u001b[0mself\u001b[0m\u001b[1;33m.\u001b[0m\u001b[0merror_handler\u001b[0m\u001b[1;33m.\u001b[0m\u001b[0mcheck_response\u001b[0m\u001b[1;33m(\u001b[0m\u001b[0mresponse\u001b[0m\u001b[1;33m)\u001b[0m\u001b[1;33m\u001b[0m\u001b[1;33m\u001b[0m\u001b[0m\n\u001b[0m\u001b[0;32m    322\u001b[0m             response['value'] = self._unwrap_value(\n\u001b[0;32m    323\u001b[0m                 response.get('value', None))\n",
      "\u001b[1;32m~\\Anaconda3\\lib\\site-packages\\selenium\\webdriver\\remote\\errorhandler.py\u001b[0m in \u001b[0;36mcheck_response\u001b[1;34m(self, response)\u001b[0m\n\u001b[0;32m    240\u001b[0m                 \u001b[0malert_text\u001b[0m \u001b[1;33m=\u001b[0m \u001b[0mvalue\u001b[0m\u001b[1;33m[\u001b[0m\u001b[1;34m'alert'\u001b[0m\u001b[1;33m]\u001b[0m\u001b[1;33m.\u001b[0m\u001b[0mget\u001b[0m\u001b[1;33m(\u001b[0m\u001b[1;34m'text'\u001b[0m\u001b[1;33m)\u001b[0m\u001b[1;33m\u001b[0m\u001b[1;33m\u001b[0m\u001b[0m\n\u001b[0;32m    241\u001b[0m             \u001b[1;32mraise\u001b[0m \u001b[0mexception_class\u001b[0m\u001b[1;33m(\u001b[0m\u001b[0mmessage\u001b[0m\u001b[1;33m,\u001b[0m \u001b[0mscreen\u001b[0m\u001b[1;33m,\u001b[0m \u001b[0mstacktrace\u001b[0m\u001b[1;33m,\u001b[0m \u001b[0malert_text\u001b[0m\u001b[1;33m)\u001b[0m\u001b[1;33m\u001b[0m\u001b[1;33m\u001b[0m\u001b[0m\n\u001b[1;32m--> 242\u001b[1;33m         \u001b[1;32mraise\u001b[0m \u001b[0mexception_class\u001b[0m\u001b[1;33m(\u001b[0m\u001b[0mmessage\u001b[0m\u001b[1;33m,\u001b[0m \u001b[0mscreen\u001b[0m\u001b[1;33m,\u001b[0m \u001b[0mstacktrace\u001b[0m\u001b[1;33m)\u001b[0m\u001b[1;33m\u001b[0m\u001b[1;33m\u001b[0m\u001b[0m\n\u001b[0m\u001b[0;32m    243\u001b[0m \u001b[1;33m\u001b[0m\u001b[0m\n\u001b[0;32m    244\u001b[0m     \u001b[1;32mdef\u001b[0m \u001b[0m_value_or_default\u001b[0m\u001b[1;33m(\u001b[0m\u001b[0mself\u001b[0m\u001b[1;33m,\u001b[0m \u001b[0mobj\u001b[0m\u001b[1;33m,\u001b[0m \u001b[0mkey\u001b[0m\u001b[1;33m,\u001b[0m \u001b[0mdefault\u001b[0m\u001b[1;33m)\u001b[0m\u001b[1;33m:\u001b[0m\u001b[1;33m\u001b[0m\u001b[1;33m\u001b[0m\u001b[0m\n",
      "\u001b[1;31mElementClickInterceptedException\u001b[0m: Message: element click intercepted: Element <div class=\"center bloc\" id=\"load_more_jobs\">...</div> is not clickable at point (306, 319). Other element would receive the click: <div class=\"block show-mobile\">...</div>\n  (Session info: chrome=78.0.3904.97)\n"
     ]
    }
   ],
   "source": [
    "location = []\n",
    "job_title = []\n",
    "companies = []\n",
    "job_type = []\n",
    "desc = []\n",
    "salaries = []\n",
    "\n",
    "for city in cities_to_search:\n",
    "    executable_path={'executable_path':'chromedriver.exe'}\n",
    "    browser = Browser('chrome', **executable_path, headless=False)\n",
    "    browser.driver.set_window_size(640, 480)\n",
    "    url = 'https://www.careerbuilder.com/'\n",
    "    browser.visit(url)\n",
    "    browser.fill('keywords','data')\n",
    "    browser.fill('location', '{}'.format(city))\n",
    "    browser.click_link_by_id('sbmt')\n",
    "    \n",
    "    time.sleep(10)\n",
    "    for x in range(5):\n",
    "        browser.click_link_by_id('load_more_jobs')\n",
    "        time.sleep(4)\n",
    "    \n",
    "    time.sleep(4)\n",
    "    text = browser.html\n",
    "    soup = BeautifulSoup(text, 'html.parser')\n",
    "    \n",
    "    post = soup.find_all(class_=\"data-results-content\")\n",
    "    post = post[4:]\n",
    "    for p in post:\n",
    "        location.append(city)\n",
    "        try:\n",
    "            job_title.append(p.find_all(class_='data-results-title')[0].text)\n",
    "        except IndexError:\n",
    "            job_title.append('N/A')\n",
    "        try:\n",
    "            companies.append(p.find_all(class_='data-details')[0].find_all('span')[0].text)\n",
    "        except IndexError:\n",
    "            companies.append('N/A')\n",
    "        try:\n",
    "            job_type.append(p.find_all(class_='data-details')[0].find_all('span')[2].text)\n",
    "        except IndexError:\n",
    "            job_type.append('N/A')\n",
    "        try:\n",
    "            desc.append(p.find_all(class_='block')[0].text)\n",
    "        except IndexError:\n",
    "            desc.append('N/A')\n",
    "        try:\n",
    "            salaries.append(p.find_all(class_='block')[1].text)\n",
    "        except IndexError:\n",
    "            salaries.append('N/A')\n",
    "    browser.quit()\n",
    "\n",
    "job_search_df4 = pd.DataFrame({\n",
    "    'Location': location,\n",
    "    'Job Title':job_title,\n",
    "    'Company':companies,\n",
    "    'Employment Type': job_type,\n",
    "    'Salary':salaries,\n",
    "    'Job Description': desc\n",
    "})\n",
    "\n",
    "job_search_df4.to_csv('job_search_results150.csv')"
   ]
  },
  {
   "cell_type": "code",
   "execution_count": 35,
   "metadata": {},
   "outputs": [],
   "source": [
    "job_search_df3 = pd.DataFrame({\n",
    "    'Location': location,\n",
    "    'Job Title':job_title,\n",
    "    'Company':companies,\n",
    "    'Employment Type': job_type,\n",
    "    'Salary':salaries,\n",
    "    'Job Description': desc\n",
    "})"
   ]
  },
  {
   "cell_type": "code",
   "execution_count": 36,
   "metadata": {},
   "outputs": [],
   "source": [
    "job_search_df3['Location'].value_counts()\n",
    "job_search_df3.to_csv('bigger_search1.2.csv')"
   ]
  },
  {
   "cell_type": "code",
   "execution_count": 40,
   "metadata": {},
   "outputs": [
    {
     "data": {
      "text/plain": [
       "Full Time                14460\n",
       "Contractor                1863\n",
       "Seasonal / Temp           1773\n",
       "Full-Time / Part-Time     1285\n",
       "Part Time                 1032\n",
       "N/A                        288\n",
       "Per Diem                   259\n",
       "Contract to Hire           137\n",
       "Intern                      39\n",
       "Name: Employment Type, dtype: int64"
      ]
     },
     "execution_count": 40,
     "metadata": {},
     "output_type": "execute_result"
    }
   ],
   "source": [
    "job_search_df3['Employment Type'].value_counts()"
   ]
  },
  {
   "cell_type": "code",
   "execution_count": 45,
   "metadata": {},
   "outputs": [
    {
     "data": {
      "text/plain": [
       "Accountemps                                   760\n",
       "OfficeTeam                                    626\n",
       "Hilton Corporate                              442\n",
       "Apex Systems                                  422\n",
       "Robert Half Technology                        364\n",
       "Army National Guard                           357\n",
       "Robert Half Finance & Accounting              353\n",
       "AOJ                                           304\n",
       "Mommy Jobs Online                             272\n",
       "Quest Diagnostics                             217\n",
       "Windstream                                    217\n",
       "Kforce Technology                             215\n",
       "Kelly Services                                214\n",
       "General Dynamics Information Technology       211\n",
       "Kforce Finance and Accounting                 183\n",
       "Creative Financial Staffing                   165\n",
       "Beacon Health Options                         149\n",
       "Aerotek                                       148\n",
       "Fresenius Medical Care                        142\n",
       "IQVIA                                         142\n",
       "Stryker                                       136\n",
       "Nesco Resource                                128\n",
       "Jefferson Frank                               128\n",
       "Talentify                                     125\n",
       "Integrated Resources, Inc                     125\n",
       "Hilton Hotels & Resorts                       124\n",
       "Party City Corporation                        118\n",
       "TEKsystems, Inc                               118\n",
       "Select Medical Corp                           115\n",
       "Spectrum                                      114\n",
       "                                             ... \n",
       "CONFIDENTIAL SEARCH SOLUTIONS                   1\n",
       "Clinical Pathology Laboratories, Inc.           1\n",
       "SSI Technologies, Inc.                          1\n",
       "Lange Real Estate                               1\n",
       "Milliner & Associates                           1\n",
       "The Jacobson Group                              1\n",
       "Curo Health Services                            1\n",
       "Kernersville Chrysler Dodge Jeep                1\n",
       "Wonderful Orchards                              1\n",
       "TalentHub                                       1\n",
       "SVS Group                                       1\n",
       "Sentech Services                                1\n",
       "Preferred Precision Group LLC                   1\n",
       "Northeast Georgia Health System, Inc            1\n",
       "Grange Insurance                                1\n",
       "Peoplelink                                      1\n",
       "Premier Press                                   1\n",
       "Hunter Technical Resources                      1\n",
       "Zillion Technologies Inc.                       1\n",
       "Pierce Group Benefits                           1\n",
       "Patient First                                   1\n",
       "DemandJump                                      1\n",
       "Jensen Beach                                    1\n",
       "Cellular Technology Limited                     1\n",
       "Straw Distribution LLC                          1\n",
       "Leggett & Platt                                 1\n",
       "DMK Development Group                           1\n",
       "The University of Tennessee Medical Center      1\n",
       "Baptist                                         1\n",
       "Housing Authority of The City of El Paso        1\n",
       "Name: Company, Length: 2414, dtype: int64"
      ]
     },
     "execution_count": 45,
     "metadata": {},
     "output_type": "execute_result"
    }
   ],
   "source": [
    "job_search_df3['Company'].value_counts()"
   ]
  },
  {
   "cell_type": "code",
   "execution_count": null,
   "metadata": {},
   "outputs": [],
   "source": []
  }
 ],
 "metadata": {
  "kernelspec": {
   "display_name": "Python 3",
   "language": "python",
   "name": "python3"
  },
  "language_info": {
   "codemirror_mode": {
    "name": "ipython",
    "version": 3
   },
   "file_extension": ".py",
   "mimetype": "text/x-python",
   "name": "python",
   "nbconvert_exporter": "python",
   "pygments_lexer": "ipython3",
   "version": "3.7.3"
  }
 },
 "nbformat": 4,
 "nbformat_minor": 4
}
